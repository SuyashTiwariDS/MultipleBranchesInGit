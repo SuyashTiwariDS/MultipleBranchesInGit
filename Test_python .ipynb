{
 "cells": [
  {
   "cell_type": "code",
   "execution_count": null,
   "id": "207700d7",
   "metadata": {},
   "outputs": [],
   "source": [
    "#Q1"
   ]
  },
  {
   "cell_type": "code",
   "execution_count": 4,
   "id": "c1252878",
   "metadata": {},
   "outputs": [
    {
     "name": "stdout",
     "output_type": "stream",
     "text": [
      "* * * * 1 \n",
      "* * * 1 2 \n",
      "* * 1 2 3 \n",
      "* 1 2 3 4 \n"
     ]
    }
   ],
   "source": [
    "for i in range(1,5):\n",
    "    for j in range(1,6-i):\n",
    "        print(\"*\", end=\" \")\n",
    "    for j in range(1, i+1):\n",
    "        print(j, end=\" \")\n",
    "    print()"
   ]
  },
  {
   "cell_type": "code",
   "execution_count": null,
   "id": "5f63ee25",
   "metadata": {},
   "outputs": [],
   "source": [
    "#Q2"
   ]
  },
  {
   "cell_type": "code",
   "execution_count": 1,
   "id": "809c1490",
   "metadata": {},
   "outputs": [
    {
     "name": "stdout",
     "output_type": "stream",
     "text": [
      "Enter the phy marks: 70\n",
      "Enter the chem marks: 80\n",
      "Enter the math marks: 66\n",
      "Enter the eng marks: 77\n",
      "Enter the hindi marks: 50\n",
      "Grade: B\n"
     ]
    }
   ],
   "source": [
    "sub1=int(input(\"Enter the phy marks: \"))\n",
    "sub2=int(input(\"Enter the chem marks: \"))\n",
    "sub3=int(input(\"Enter the math marks: \"))\n",
    "sub4=int(input(\"Enter the eng marks: \"))\n",
    "sub5=int(input(\"Enter the hindi marks: \"))\n",
    "avg=(sub1+sub2+sub3+sub4+sub5)/5\n",
    "if(avg>=80) & (avg<=100):\n",
    "    print(\"Grade: A\")\n",
    "elif(avg>=60) & (avg<=80):\n",
    "    print(\"Grade: B\")\n",
    "elif(avg>=40) & (avg<=60):\n",
    "    print(\"Grade: C\")\n",
    "elif(avg<=40):\n",
    "    print(\"Faild\")"
   ]
  },
  {
   "cell_type": "code",
   "execution_count": null,
   "id": "aaac3170",
   "metadata": {},
   "outputs": [],
   "source": [
    "#Q3"
   ]
  },
  {
   "cell_type": "code",
   "execution_count": 15,
   "id": "876cc098",
   "metadata": {},
   "outputs": [
    {
     "name": "stdout",
     "output_type": "stream",
     "text": [
      "W\n",
      "e\n",
      "l\n",
      "c\n",
      "o\n",
      "m\n",
      "e\n",
      " \n",
      "T\n",
      "o\n",
      " \n",
      "T\n",
      "h\n",
      "e\n",
      " \n",
      "G\n",
      "u\n",
      "j\n",
      "a\n",
      "r\n",
      "a\n",
      "t\n",
      " \n",
      "U\n",
      "n\n",
      "i\n",
      "v\n",
      "e\n",
      "r\n",
      "s\n",
      "i\n",
      "t\n",
      "y\n",
      "finally loop end\n"
     ]
    },
    {
     "data": {
      "text/plain": [
       "33"
      ]
     },
     "execution_count": 15,
     "metadata": {},
     "output_type": "execute_result"
    }
   ],
   "source": [
    "name = \"Welcome To The Gujarat University\"\n",
    "for i in name:\n",
    "    print(i)\n",
    "else:\n",
    "    print(\"finally loop end\")\n",
    "len(name)"
   ]
  },
  {
   "cell_type": "code",
   "execution_count": 13,
   "id": "1d260c65",
   "metadata": {},
   "outputs": [],
   "source": [
    "#Q4"
   ]
  },
  {
   "cell_type": "code",
   "execution_count": 18,
   "id": "16dff2aa",
   "metadata": {},
   "outputs": [
    {
     "name": "stdout",
     "output_type": "stream",
     "text": [
      "1\n",
      "2\n",
      "6\n",
      "24\n",
      "120\n",
      "720\n"
     ]
    }
   ],
   "source": [
    "fact = 1\n",
    "for i in range(1,7):\n",
    "    fact = fact*i\n",
    "    print(fact)"
   ]
  },
  {
   "cell_type": "code",
   "execution_count": 17,
   "id": "9c5d9e7e",
   "metadata": {},
   "outputs": [],
   "source": [
    "#Q5"
   ]
  },
  {
   "cell_type": "code",
   "execution_count": null,
   "id": "65f88d82",
   "metadata": {},
   "outputs": [],
   "source": [
    "Logical Operator: \n",
    "And \n",
    "Or \n",
    "Not\n",
    "Identify Operator:\n",
    "Is \n",
    "Is Not\n",
    "Comparison Operator:\n",
    "Equal \n",
    "Not Equal \n",
    "Greater than\n",
    "Less than\n",
    "Greater than equal \n",
    "Less than equal "
   ]
  }
 ],
 "metadata": {
  "kernelspec": {
   "display_name": "Python 3 (ipykernel)",
   "language": "python",
   "name": "python3"
  },
  "language_info": {
   "codemirror_mode": {
    "name": "ipython",
    "version": 3
   },
   "file_extension": ".py",
   "mimetype": "text/x-python",
   "name": "python",
   "nbconvert_exporter": "python",
   "pygments_lexer": "ipython3",
   "version": "3.9.12"
  }
 },
 "nbformat": 4,
 "nbformat_minor": 5
}
